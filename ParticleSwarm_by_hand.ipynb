{
 "cells": [
  {
   "cell_type": "code",
   "execution_count": 1,
   "id": "fa97d44f-7645-4b3c-81de-677ffdb0a657",
   "metadata": {},
   "outputs": [],
   "source": [
    "import numpy as np\n",
    "import random"
   ]
  },
  {
   "cell_type": "code",
   "execution_count": 2,
   "id": "706c3ddd-1e0d-49ce-854e-a2560aadfda2",
   "metadata": {},
   "outputs": [],
   "source": [
    "# Определение функции Химмельблау\n",
    "def himmelblau(x, y):\n",
    "    return (x**2 + y - 11)**2 + (x + y**2 - 7)**2"
   ]
  },
  {
   "cell_type": "code",
   "execution_count": 3,
   "id": "86303cbb-c0c5-494f-9e6a-6650af0425b9",
   "metadata": {},
   "outputs": [],
   "source": [
    "class PSO:\n",
    "    def __init__(self, fitness_func, l_bound, h_bound, n_particles=20, n_dimensions=2, max_iter=100):\n",
    "        self.l_bound = l_bound\n",
    "        self.h_bound = h_bound\n",
    "        self.fitness_func = fitness_func\n",
    "        self.n_particles = n_particles\n",
    "        self.n_dimensions = n_dimensions \n",
    "        self.max_iter = max_iter \n",
    "        # инициализируем списки для хранения данных о частицах и их лучших значениях\n",
    "        self.particles = np.zeros((self.n_particles, self.n_dimensions))\n",
    "        self.velocities = np.random.uniform(-1, 1, size=(self.n_particles, self.n_dimensions))\n",
    "        self.pbest_positions = np.zeros((self.n_particles, self.n_dimensions))\n",
    "        self.pbest_values = np.zeros(self.n_particles)\n",
    "        # инициализируем глобальные лучшие значения\n",
    "        self.gbest_position = np.zeros(self.n_dimensions)\n",
    "        self.gbest_value = np.inf\n",
    "\n",
    "    def initialize_particles(self,l_bound, h_bound):\n",
    "        # инициализируем начальные значения для каждой частицы\n",
    "        self.particles = np.random.uniform(l_bound, h_bound, size=(self.n_particles, self.n_dimensions))\n",
    "        for i in range(self.n_particles):\n",
    "            # сохраняем начальные значения как лучшие для каждой частицы\n",
    "            self.pbest_positions[i] = self.particles[i]\n",
    "            value = self.evaluate_fitness(self.fitness_func, self.particles[i])\n",
    "            self.pbest_values[i] = value\n",
    "            # проверяем, является ли начальное значение глобально лучшим\n",
    "            if value < self.gbest_value:\n",
    "                self.gbest_position = self.particles[i]\n",
    "                self.gbest_value = value\n",
    "\n",
    "    def update_particles(self):\n",
    "       # Для подсчета скорости будем использовать 'глобальный подход'\n",
    "       # v_i(t+1) = w*v_i(t) + c1*r1*(p_i - x_i) + c2*r2*(g - x_i)\n",
    "       #  где v_i(t) - текущая скорость частицы i\n",
    "       #  p_i - лучшее положение, которое достигала частица i\n",
    "       #  x_i - текущее положение частицы i\n",
    "       #  g - лучшее положение, которое достигали все частицы в рое\n",
    "       #  w, c1, c2 - коэффициенты инерции, локального и глобального воздействия\n",
    "       #  r1, r2 - случайные числа в диапазоне [0, 1]\n",
    "       # обновляем значения скоростей и позиций для каждой частицы\n",
    "        w=0.5       \n",
    "        c1=1        \n",
    "        c2=2        \n",
    "        for i in range(self.n_particles):\n",
    "            r1 = np.random.rand(self.n_dimensions)\n",
    "            r2 = np.random.rand(self.n_dimensions)\n",
    "            self.velocities[i] = w*self.velocities[i] + \\\n",
    "                c1 * r1 * (self.pbest_positions[i] - self.particles[i]) + \\\n",
    "                c2 * r2 * (self.gbest_position - self.particles[i])   \n",
    "            self.particles[i] = self.particles[i] + self.velocities[i]\n",
    "            # вычисляем значение функции для новой позиции и обновляем лучшее значение для частицы\n",
    "            value = self.evaluate_fitness(self.fitness_func, self.particles[i])\n",
    "            if value < self.pbest_values[i]:\n",
    "                self.pbest_positions[i] = self.particles[i]\n",
    "                self.pbest_values[i] = value\n",
    "                # проверяем, не является ли новое значение глобально лучшим\n",
    "                if value < self.gbest_value:\n",
    "                    self.gbest_position = self.particles[i]\n",
    "                    self.gbest_value = value\n",
    "\n",
    "    def evaluate_fitness(self,fitness_func, position):\n",
    "        x, y = position\n",
    "        return fitness_func(x, y)\n",
    "\n",
    "    def run(self):\n",
    "        self.initialize_particles(self.l_bound, self.h_bound)\n",
    "        for i in range(self.max_iter):\n",
    "            self.update_particles()\n",
    "        return self.gbest_position, self.gbest_value"
   ]
  },
  {
   "cell_type": "code",
   "execution_count": 6,
   "id": "b3e0a3de-c4d0-4632-b6b1-640a5871957c",
   "metadata": {},
   "outputs": [
    {
     "name": "stdout",
     "output_type": "stream",
     "text": [
      "X = -2.8051, Y = 3.1313, Z = 2.270274850468683e-16\n"
     ]
    }
   ],
   "source": [
    "pso = PSO(himmelblau,-5,5)\n",
    "solution, val = pso.run()\n",
    "print(f'X = {solution[0]:.4f}, Y = {solution[1]:.4f}, Z = {val}')"
   ]
  }
 ],
 "metadata": {
  "kernelspec": {
   "display_name": "Python 3 (ipykernel)",
   "language": "python",
   "name": "python3"
  },
  "language_info": {
   "codemirror_mode": {
    "name": "ipython",
    "version": 3
   },
   "file_extension": ".py",
   "mimetype": "text/x-python",
   "name": "python",
   "nbconvert_exporter": "python",
   "pygments_lexer": "ipython3",
   "version": "3.8.10"
  }
 },
 "nbformat": 4,
 "nbformat_minor": 5
}
