{
 "cells": [
  {
   "cell_type": "code",
   "execution_count": 1,
   "id": "28b36e89-803f-4854-b600-c02d52381938",
   "metadata": {},
   "outputs": [],
   "source": [
    "import numpy as np"
   ]
  },
  {
   "cell_type": "code",
   "execution_count": 2,
   "id": "f71cc125-9c34-4936-be89-9e5011831f86",
   "metadata": {},
   "outputs": [],
   "source": [
    "# Определение функции Химмельблау\n",
    "def himmelblau(x, y):\n",
    "    return (x**2 + y - 11)**2 + (x + y**2 - 7)**2"
   ]
  },
  {
   "cell_type": "code",
   "execution_count": 3,
   "id": "ddca5b22-c206-400e-957e-c1842860f9e8",
   "metadata": {},
   "outputs": [],
   "source": [
    "class AdamOptimizer:\n",
    "    def __init__(self, alpha=0.01, beta1=0.9, beta2=0.9, epsilon=1e-8):\n",
    "        self.alpha = alpha\n",
    "        self.beta1 = beta1\n",
    "        self.beta2 = beta2\n",
    "        self.epsilon = epsilon\n",
    "        self.m_t =  np.zeros(2)\n",
    "        self.v_t =  np.zeros(2)\n",
    "        self.t = 0\n",
    "    \n",
    "    def optimize(self, func, x, y, max_iter):\n",
    "        for _ in range(max_iter):\n",
    "            # Вычисление градиента\n",
    "            # Просто посчитает частные производные используя при этом правило дифференцирования сложной функции\n",
    "            grad = np.array([4 * x * (x**2 + y - 11) + 2 * (x + y**2 - 7),\n",
    "                             4 * y * (x + y**2 - 7) + 2 * (x**2 + y - 11)])\n",
    "            \n",
    "            # Обновление момента первого порядка\n",
    "            self.m_t = self.beta1 * self.m_t + (1 - self.beta1) * grad\n",
    "            \n",
    "            # Обновление момента второго порядка\n",
    "            self.v_t = self.beta2 * self.v_t + (1 - self.beta2) * (grad**2)\n",
    "            \n",
    "            # Вычисление скользящего среднего градиента первого порядка и второго порядка\n",
    "            m_hat = self.m_t / (1 - self.beta1**(self.t+1))\n",
    "            v_hat = self.v_t / (1 - self.beta2**(self.t+1))\n",
    "            \n",
    "            # Обновление параметров модели\n",
    "            x = x - self.alpha * m_hat[0] / (np.sqrt(v_hat[0]) + self.epsilon)\n",
    "            y = y - self.alpha * m_hat[1] / (np.sqrt(v_hat[1]) + self.epsilon)\n",
    "            \n",
    "            self.t += 1\n",
    "        \n",
    "        return x, y, func(x, y)"
   ]
  },
  {
   "cell_type": "code",
   "execution_count": 4,
   "id": "49b442cb-1f85-4e25-ae07-9edbc9cbe47a",
   "metadata": {},
   "outputs": [
    {
     "name": "stdout",
     "output_type": "stream",
     "text": [
      "X = -3.7794, Y = -3.2835, Z = 0.0000\n"
     ]
    }
   ],
   "source": [
    "x = np.random.uniform(-5, 5)\n",
    "y = np.random.uniform(-5, 5)\n",
    "optimizer = AdamOptimizer()\n",
    "X, Y, Z = optimizer.optimize(himmelblau, x, y, 1000)\n",
    "print(f'X = {X:.4f}, Y = {Y:.4f}, Z = {Z:.4f}')"
   ]
  }
 ],
 "metadata": {
  "kernelspec": {
   "display_name": "Python 3 (ipykernel)",
   "language": "python",
   "name": "python3"
  },
  "language_info": {
   "codemirror_mode": {
    "name": "ipython",
    "version": 3
   },
   "file_extension": ".py",
   "mimetype": "text/x-python",
   "name": "python",
   "nbconvert_exporter": "python",
   "pygments_lexer": "ipython3",
   "version": "3.8.10"
  }
 },
 "nbformat": 4,
 "nbformat_minor": 5
}
